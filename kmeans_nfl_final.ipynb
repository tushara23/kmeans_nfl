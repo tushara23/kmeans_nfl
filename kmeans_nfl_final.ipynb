{
 "cells": [
  {
   "cell_type": "code",
   "execution_count": 42,
   "metadata": {
    "collapsed": true
   },
   "outputs": [],
   "source": [
    "%matplotlib inline\n",
    "\n",
    "import pymysql\n",
    "import matplotlib.pyplot as plt\n",
    "import numpy as np\n",
    "import pandas as pd\n",
    "\n",
    "from sklearn.cluster import KMeans\n",
    "from sklearn.metrics import silhouette_score\n",
    "from sklearn.preprocessing import scale\n",
    "from IPython.display import display, HTML"
   ]
  },
  {
   "cell_type": "code",
   "execution_count": 13,
   "metadata": {
    "collapsed": false
   },
   "outputs": [],
   "source": [
    "#Create Offense dataframe with only WRs and relevant variables, create redzone dataframe\n",
    "strSQL = (\"Select p.PNAME,o.PLAYER,RA,SRA,RY,TDR,REC,SNP,FP3,FUML,YEAR from offense o INNER JOIN player p on \"\n",
    "          \"o.player = p.PLAYER WHERE p.POS1 = \"'\"RB\"'\" and o.YEAR = 2015\")\n",
    "\n",
    "df_rbs_2015 = pd.DataFrame(pd.read_sql(strSQL,conn,params=None))\n",
    "\n",
    "#Use groupby to create a games count, average all fields used for analysis\n",
    "rb_games = df_rbs_2015.groupby(['PNAME'])['RA'].count()\n",
    "rbs = df_rbs_2015.groupby(['PNAME']).agg(np.mean)\n",
    "rbs['games'] = rb_games"
   ]
  },
  {
   "cell_type": "markdown",
   "metadata": {},
   "source": [
    "The use of data in sports has grown exponentially over the past few years; many professional teams now use data analytics in their game preparation. In this post I will combine the two by using sports data and machine learning. I will demonstrate a simple method, K-means clustering, that groups similar obeservations together using NFL data on running backs.\n",
    "\n",
    "**Data**\n",
    "\n",
    "The data for this analysis is from Armchair Analysis (http://www.armchairanalysis.com/). The dataset provides a level of granularity I have yet to see from the major sites like ESPN, NFL.com, and pro-football-reference. The data is broken out into several tables (players, play-by-play, offense, etc.), which can be loaded into a database or consumed separately as csv files. I loaded the data into a google sql database and used python to query the database. For this example, I used the 'offense' table, which contains offensive player statistics for each game from 2000-2015.\n",
    "\n",
    "**What is K-means clustering?**\n",
    "\n",
    "K-means clustering is a machine learning algorithm that is considered an unsupervised method -- there is no clear \n",
    "labeling of the observations, and our goal is to label them. The final result is a group of clusters where each \n",
    "observation is as similar to each other as possible. This is done in 4 steps:\n",
    "\n",
    "1. Randomly assign k points (number of clusters) as cluster centers.\n",
    "2. Assign each observation to a cluster that minimizes the distance to the center of the cluster.\n",
    "3. Recompute the center using the observations in each cluster.\n",
    "4. Repeat steps 2 and 3 until the cluster assignments don’t change.\n",
    "\n",
    "There is some preparation before the data can be clustered. The mean of each variable is calculated, then subtracted from each of the observations. The observations are then divided by the standard deviation of the variable. This is called \"scaling.\"\n",
    "\n",
    "In this example, I cluster NFL running backs from 2015. In the fantasy football world, this analysis is useful in finding replacement players, for example on bye weeks when owners need to replace a player with a comparable player. I'll use the following variables: rushing attempts, successful rushing attempts (eliminates negative carries), touchdown receptions, receptions, snaps played and fumbles."
   ]
  },
  {
   "cell_type": "markdown",
   "metadata": {},
   "source": [
    "**Example**\n",
    "\n",
    "Python's scikit-learn library has several machine learning algorithms built in, including K-means clustering. It only takes a few lines of code to produce the clusters. The first step is to decide the range of clusters you want to test, I choose 3 to 20. In order to quantify how well each number of clusters performs, I use a silhouette score (coefficient). The sihouette coefficient is calculated using the mean intra-cluster distance and the mean nearest-cluster distance. \n",
    "\n",
    "(b-a)/max(a,b)\n",
    "\n",
    "b is the mean nearest-cluster difference, or the difference between a cluster mean and it's nearest neighbor's cluster mean. The mean distance between each observation in a cluster is a. A larger difference between two clusters, and a smaller difference between observations in a cluster, yields a better silhouette coefficient."
   ]
  },
  {
   "cell_type": "code",
   "execution_count": 31,
   "metadata": {
    "collapsed": false
   },
   "outputs": [
    {
     "data": {
      "text/plain": [
       "<matplotlib.text.Text at 0x11afbe2d0>"
      ]
     },
     "execution_count": 31,
     "metadata": {},
     "output_type": "execute_result"
    },
    {
     "data": {
      "image/png": "[encoded data removed]",
      "text/plain": [
       "<matplotlib.figure.Figure at 0x11a8877d0>"
      ]
     },
     "metadata": {},
     "output_type": "display_data"
    }
   ],
   "source": [
    "k = list(range(3,20))\n",
    "\n",
    "scores = dict.fromkeys(k)\n",
    "\n",
    "data = scale(rbs[['RA','SRA','RY','TDR','REC','SNP','FUML']].values)\n",
    "\n",
    "for size in k:\n",
    "    kmeans = KMeans(n_clusters=size)\n",
    "    kmeans.fit(data)\n",
    "    scores[size] = silhouette_score(data,kmeans.labels_)\n",
    "    \n",
    "plt.plot(k,scores.values())\n",
    "plt.title('K-means clustering of RBs, 2015')\n",
    "plt.xlabel('Number of Clusters')\n",
    "plt.ylabel('Silhouette score')"
   ]
  },
  {
   "cell_type": "markdown",
   "metadata": {},
   "source": [
    "The plot shows that the silhouette score peaks at 5 clusters. Let's take a look at the data for 5 clusters:"
   ]
  },
  {
   "cell_type": "code",
   "execution_count": 34,
   "metadata": {
    "collapsed": false,
    "scrolled": true
   },
   "outputs": [
    {
     "data": {
      "text/html": [
       "<div>\n",
       "<table border=\"1\" class=\"dataframe\">\n",
       "  <thead>\n",
       "    <tr style=\"text-align: right;\">\n",
       "      <th></th>\n",
       "      <th>RA</th>\n",
       "      <th>SRA</th>\n",
       "      <th>RY</th>\n",
       "      <th>TDR</th>\n",
       "      <th>REC</th>\n",
       "      <th>SNP</th>\n",
       "      <th>FUML</th>\n",
       "    </tr>\n",
       "  </thead>\n",
       "  <tbody>\n",
       "    <tr>\n",
       "      <th>0</th>\n",
       "      <td>0.762913</td>\n",
       "      <td>0.751662</td>\n",
       "      <td>0.734006</td>\n",
       "      <td>0.758807</td>\n",
       "      <td>-0.074378</td>\n",
       "      <td>0.380181</td>\n",
       "      <td>0.343072</td>\n",
       "    </tr>\n",
       "    <tr>\n",
       "      <th>1</th>\n",
       "      <td>-0.656735</td>\n",
       "      <td>-0.651389</td>\n",
       "      <td>-0.653844</td>\n",
       "      <td>-0.560074</td>\n",
       "      <td>-0.502982</td>\n",
       "      <td>-0.635429</td>\n",
       "      <td>-0.361874</td>\n",
       "    </tr>\n",
       "    <tr>\n",
       "      <th>2</th>\n",
       "      <td>-0.919334</td>\n",
       "      <td>-1.037666</td>\n",
       "      <td>-1.139927</td>\n",
       "      <td>-0.743613</td>\n",
       "      <td>-1.126940</td>\n",
       "      <td>-1.405851</td>\n",
       "      <td>5.932691</td>\n",
       "    </tr>\n",
       "    <tr>\n",
       "      <th>3</th>\n",
       "      <td>1.846033</td>\n",
       "      <td>1.829351</td>\n",
       "      <td>1.831705</td>\n",
       "      <td>1.522471</td>\n",
       "      <td>1.008847</td>\n",
       "      <td>1.732514</td>\n",
       "      <td>0.569700</td>\n",
       "    </tr>\n",
       "    <tr>\n",
       "      <th>4</th>\n",
       "      <td>-0.150819</td>\n",
       "      <td>-0.121616</td>\n",
       "      <td>-0.063274</td>\n",
       "      <td>-0.265497</td>\n",
       "      <td>1.821031</td>\n",
       "      <td>0.692648</td>\n",
       "      <td>-0.066976</td>\n",
       "    </tr>\n",
       "  </tbody>\n",
       "</table>\n",
       "</div>"
      ],
      "text/plain": [
       "         RA       SRA        RY       TDR       REC       SNP      FUML\n",
       "0  0.762913  0.751662  0.734006  0.758807 -0.074378  0.380181  0.343072\n",
       "1 -0.656735 -0.651389 -0.653844 -0.560074 -0.502982 -0.635429 -0.361874\n",
       "2 -0.919334 -1.037666 -1.139927 -0.743613 -1.126940 -1.405851  5.932691\n",
       "3  1.846033  1.829351  1.831705  1.522471  1.008847  1.732514  0.569700\n",
       "4 -0.150819 -0.121616 -0.063274 -0.265497  1.821031  0.692648 -0.066976"
      ]
     },
     "execution_count": 34,
     "metadata": {},
     "output_type": "execute_result"
    }
   ],
   "source": [
    "kmeans = KMeans(n_clusters=5)\n",
    "kmeans.fit(data)\n",
    "\n",
    "clusters = pd.DataFrame(kmeans.cluster_centers_,\n",
    "                       columns=['RA','SRA','RY','TDR','REC','SNP','FUML'])\n",
    "\n",
    "rbs['cluster']=kmeans.labels_\n",
    "\n",
    "clusters"
   ]
  },
  {
   "cell_type": "markdown",
   "metadata": {},
   "source": [
    "The table shows the 5 clusters broken out into the variables we input into the model. Cluster 3 is the cluster of top-performing backs. Remember, these numbers are scaled, so the number of rushing touchdowns (TDR) cluster 3 running backs score is 1.522 standard deviations above the mean for all running backs. Let's take a look at who is in this group."
   ]
  },
  {
   "cell_type": "code",
   "execution_count": 91,
   "metadata": {
    "collapsed": false,
    "scrolled": true
   },
   "outputs": [
    {
     "data": {
      "text/html": [
       "<div>\n",
       "<table border=\"1\" class=\"dataframe\">\n",
       "  <thead>\n",
       "    <tr style=\"text-align: right;\">\n",
       "      <th></th>\n",
       "      <th>RA</th>\n",
       "      <th>SRA</th>\n",
       "      <th>RY</th>\n",
       "      <th>TDR</th>\n",
       "      <th>REC</th>\n",
       "      <th>cluster</th>\n",
       "    </tr>\n",
       "    <tr>\n",
       "      <th>PNAME</th>\n",
       "      <th></th>\n",
       "      <th></th>\n",
       "      <th></th>\n",
       "      <th></th>\n",
       "      <th></th>\n",
       "      <th></th>\n",
       "    </tr>\n",
       "  </thead>\n",
       "  <tbody>\n",
       "    <tr>\n",
       "      <th>A.Peterson</th>\n",
       "      <td>20.588235</td>\n",
       "      <td>8.882353</td>\n",
       "      <td>90.000000</td>\n",
       "      <td>0.647059</td>\n",
       "      <td>1.882353</td>\n",
       "      <td>3</td>\n",
       "    </tr>\n",
       "    <tr>\n",
       "      <th>D.Freeman</th>\n",
       "      <td>17.600000</td>\n",
       "      <td>8.066667</td>\n",
       "      <td>70.733333</td>\n",
       "      <td>0.733333</td>\n",
       "      <td>4.866667</td>\n",
       "      <td>3</td>\n",
       "    </tr>\n",
       "    <tr>\n",
       "      <th>J.Charles</th>\n",
       "      <td>14.200000</td>\n",
       "      <td>6.800000</td>\n",
       "      <td>72.800000</td>\n",
       "      <td>0.800000</td>\n",
       "      <td>4.200000</td>\n",
       "      <td>3</td>\n",
       "    </tr>\n",
       "    <tr>\n",
       "      <th>J.Hill</th>\n",
       "      <td>13.823529</td>\n",
       "      <td>6.588235</td>\n",
       "      <td>49.647059</td>\n",
       "      <td>0.705882</td>\n",
       "      <td>1.058824</td>\n",
       "      <td>3</td>\n",
       "    </tr>\n",
       "    <tr>\n",
       "      <th>J.Stewart</th>\n",
       "      <td>18.250000</td>\n",
       "      <td>8.062500</td>\n",
       "      <td>75.437500</td>\n",
       "      <td>0.562500</td>\n",
       "      <td>1.250000</td>\n",
       "      <td>3</td>\n",
       "    </tr>\n",
       "    <tr>\n",
       "      <th>T.Gurley</th>\n",
       "      <td>17.615385</td>\n",
       "      <td>7.538462</td>\n",
       "      <td>85.230769</td>\n",
       "      <td>0.769231</td>\n",
       "      <td>1.615385</td>\n",
       "      <td>3</td>\n",
       "    </tr>\n",
       "    <tr>\n",
       "      <th>T.Hightower</th>\n",
       "      <td>16.000000</td>\n",
       "      <td>9.000000</td>\n",
       "      <td>62.500000</td>\n",
       "      <td>0.666667</td>\n",
       "      <td>2.000000</td>\n",
       "      <td>3</td>\n",
       "    </tr>\n",
       "  </tbody>\n",
       "</table>\n",
       "</div>"
      ],
      "text/plain": [
       "                    RA       SRA         RY       TDR       REC  cluster\n",
       "PNAME                                                                   \n",
       "A.Peterson   20.588235  8.882353  90.000000  0.647059  1.882353        3\n",
       "D.Freeman    17.600000  8.066667  70.733333  0.733333  4.866667        3\n",
       "J.Charles    14.200000  6.800000  72.800000  0.800000  4.200000        3\n",
       "J.Hill       13.823529  6.588235  49.647059  0.705882  1.058824        3\n",
       "J.Stewart    18.250000  8.062500  75.437500  0.562500  1.250000        3\n",
       "T.Gurley     17.615385  7.538462  85.230769  0.769231  1.615385        3\n",
       "T.Hightower  16.000000  9.000000  62.500000  0.666667  2.000000        3"
      ]
     },
     "execution_count": 91,
     "metadata": {},
     "output_type": "execute_result"
    }
   ],
   "source": [
    "rbs3 = rbs3[rbs3.cluster == 3]\n",
    "rbs_table = rbs3[rbs3['TDR']>.5]\n",
    "rbs_table"
   ]
  },
  {
   "cell_type": "markdown",
   "metadata": {},
   "source": [
    "Looking at the cluster 3 running backs, our clustering seems correct. Top performing backs like Adrian Peterson, Todd Gurley, and Jamaal Charles are captured in the cluster.\n",
    "\n",
    "**Things to Consider**\n",
    "\n",
    "1. Measuring clustering performance requires a solid metric like the silhouette score. There are several other ways to\n",
    "measure performance (for more ways, check scikit-learn's documentation http://scikit-learn.org/stable/modules/clustering.html#clustering-evaluation)\n",
    "\n",
    "2. The data is scaled before clustering. The means are subtracted off each observation, then divided by the standard deviation. \n",
    "\n",
    "3. The clustering will change with the variables you use. Eliminating variables like 'Successful Rushing Attempts' will move some players out of clusters and into others. "
   ]
  }
 ],
 "metadata": {
  "kernelspec": {
   "display_name": "Python 2",
   "language": "python",
   "name": "python2"
  },
  "language_info": {
   "codemirror_mode": {
    "name": "ipython",
    "version": 2
   },
   "file_extension": ".py",
   "mimetype": "text/x-python",
   "name": "python",
   "nbconvert_exporter": "python",
   "pygments_lexer": "ipython2",
   "version": "2.7.11"
  }
 },
 "nbformat": 4,
 "nbformat_minor": 0
}
